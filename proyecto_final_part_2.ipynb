{
 "cells": [
  {
   "cell_type": "code",
   "execution_count": 237,
   "metadata": {},
   "outputs": [],
   "source": [
    "import pandas as pd\n",
    "\n",
    "'''\n",
    "importo el archivo separado por ; y selecciono las columnnas que estamos interesadas\n",
    "'''\n",
    "df_airbnb_cleansed = pd.read_csv('df_airbnb_cleansed.csv', sep=',') \n",
    "\n"
   ]
  },
  {
   "cell_type": "code",
   "execution_count": 238,
   "metadata": {},
   "outputs": [
    {
     "data": {
      "text/plain": [
       "Index(['ID', 'LAST_SCRAPED', 'HOST_ID', 'HOST_SINCE', 'HOST_LOCATION',\n",
       "       'HOST_RESPONSE_TIME', 'HOST_RESPONSE_RATE', 'HOST_LISTINGS_COUNT',\n",
       "       'HOST_TOTAL_LISTINGS_COUNT', 'FIRST_REVIEW', 'LAST_REVIEW',\n",
       "       'NEIGHBOURHOOD_CLEANSED', 'CITY', 'STATE', 'ZIPCODE', 'MARKET',\n",
       "       'SMART_LOCATION', 'COUNTRY_CODE', 'COUNTRY', 'LATITUDE', 'LONGITUDE',\n",
       "       'PROPERTY_TYPE', 'ROOM_TYPE', 'ACCOMMODATES', 'BATHROOMS', 'BEDROOMS',\n",
       "       'BEDS', 'BED_TYPE', 'AMENITIES', 'PRICE', 'WEEKLY_PRICE',\n",
       "       'MONTHLY_PRICE', 'SECURITY_DEPOSIT', 'CLEANING_FEE', 'GUESTS_INCLUDED',\n",
       "       'EXTRA_PEOPLE', 'MINIMUM_NIGHTS', 'MAXIMUM_NIGHTS', 'NUMBER_OF_REVIEWS',\n",
       "       'REVIEW_SCORES_RATING', 'REVIEW_SCORES_ACCURACY',\n",
       "       'REVIEW_SCORES_CLEANLINESS', 'REVIEW_SCORES_CHECKIN',\n",
       "       'REVIEW_SCORES_COMMUNICATION', 'REVIEW_SCORES_LOCATION',\n",
       "       'REVIEW_SCORES_VALUE', 'CANCELLATION_POLICY',\n",
       "       'CALCULATED_HOST_LISTINGS_COUNT', 'REVIEWS_PER_MONTH', 'FEATURES',\n",
       "       'WEEKLY_PRICE_CLEANSED', 'MONTHLY_PRICE_CLEANSED', 'PRICE_CLEANSED',\n",
       "       'TOTAL_PRICE', 'WEEKLY_DISCOUNT', 'MONTHLY_CALCULATED',\n",
       "       'MONTHLY_DISCOUNT', 'PRICE_PER_PERSON', 'RATIO_BEDS_PERS',\n",
       "       'DAYS_POSTED', 'MAX_OCCUPANCY', 'RATIO_NVECES_ALQUILADO',\n",
       "       'RATIO_ROOMS_PERS', 'CITY_CLEANSED', 'INTERNET', 'AC', '24H_CHECKING',\n",
       "       'WASHER', 'SMOKING ALLOWED', 'PETS ALLOWED', 'ELEVATOR IN BUILDING',\n",
       "       'SECURITY_DEPOSIT_BOOL'],\n",
       "      dtype='object')"
      ]
     },
     "execution_count": 238,
     "metadata": {},
     "output_type": "execute_result"
    }
   ],
   "source": [
    "df_airbnb_cleansed.columns"
   ]
  },
  {
   "cell_type": "code",
   "execution_count": 266,
   "metadata": {},
   "outputs": [
    {
     "data": {
      "text/plain": [
       "array([  1,   2,   3,   4,   5,   6,   7,   8,   9,  10,  11,  12,  13,\n",
       "        14,  15,  16,  17,  18,  19,  20,  21,  22,  23,  24,  25,  26,\n",
       "        27,  28,  29,  30,  31,  32,  33,  34,  35,  36,  37,  38,  39,\n",
       "        40,  41,  42,  43,  44,  45,  46,  47,  48,  49,  50,  51,  52,\n",
       "        53,  54,  55,  56,  57,  58,  59,  60,  61,  62,  63,  64,  65,\n",
       "        66,  67,  68,  69,  70,  71,  72,  73,  74,  75,  76,  77,  78,\n",
       "        79,  80,  81,  82,  83,  84,  85,  86,  87,  88,  89,  90,  91,\n",
       "        92,  93,  94,  95,  96,  97,  98,  99, 100, 101, 102, 103, 104,\n",
       "       105, 106, 107, 108, 109, 110, 111, 112, 113, 114, 115, 116, 117,\n",
       "       118, 119, 120, 121, 122, 123, 124, 125, 126], dtype=int64)"
      ]
     },
     "execution_count": 266,
     "metadata": {},
     "output_type": "execute_result"
    }
   ],
   "source": [
    "df_airbnb_cleansed['NEIGHBOURHOOD_CLEANSED'].unique()"
   ]
  },
  {
   "attachments": {},
   "cell_type": "markdown",
   "metadata": {},
   "source": [
    "#############################\n",
    "# NORMALIZACION PARA SQL #\n",
    "\n",
    "NEIGHBOURHOOD_CLEANSED, 'PROPERTY_TYPE', 'ROOM_TYPE', 'BED_TYPE'\n",
    "#############################"
   ]
  },
  {
   "cell_type": "code",
   "execution_count": 267,
   "metadata": {},
   "outputs": [],
   "source": [
    "dic_NEIGHBOURHOOD_CLEANSED = {'PALACIO': 1, 'EMBAJADORES': 2, 'CORTES': 3, 'JUSTICIA': 4, 'UNIVERSIDAD': 5,\n",
    "       'SOL': 6, 'IMPERIAL': 7, 'ACACIAS': 8, 'VENTAS': 9, 'PUEBLO NUEVO': 10, 'QUINTANA': 11,\n",
    "       'CONCEPCION': 12, 'CANILLAS': 13, 'PINAR DEL REY': 14, 'SAN ANDRES': 15,\n",
    "       'ARAPILES': 16, 'TRAFALGAR': 17, 'ALMAGRO': 18, 'CHOPERA': 19, 'LEGAZPI': 20,\n",
    "       'DELICIAS': 21, 'PALOS DE MOGUER': 22, 'PROSPERIDAD': 23, 'HISPANOAMERICA': 24,\n",
    "       'NUEVA ESPANA': 25, 'CASTILLA': 26, 'BELLAS VISTAS': 27, 'CUATRO CAMINOS': 28,\n",
    "       'VALLEHERMOSO': 29, 'ALMENARA': 30, 'VALDEACEDERAS': 31, 'BERRUGUETE': 32,\n",
    "       'GAZTAMBIDE': 33, 'GUINDALERA': 34, 'LISTA': 35, 'CASTELLANA': 36, 'EL VISO': 37,\n",
    "       'RECOLETOS': 38, 'GOYA': 39, 'FUENTE DEL BERRO': 40, 'ATOCHA': 41, 'PACIFICO': 42,\n",
    "       'ADELFAS': 43, 'ESTRELLA': 44, 'IBIZA': 45, 'JERONIMOS': 46, 'RIOS ROSAS': 47,\n",
    "       'PENAGRANDE': 48, 'ARGUELLES': 49, 'PUERTA DEL ANGEL': 50, 'LUCERO': 51, 'ALUCHE': 52,\n",
    "       'CAMPAMENTO': 53, 'AGUILAS': 54, 'COMILLAS': 55, 'VISTA ALEGRE': 56, 'LA PAZ': 57,\n",
    "       'VALVERDE': 58, 'CASA DE CAMPO': 59, 'CIUDAD UNIVERSITARIA': 60, 'NUMANCIA': 61,\n",
    "       'PUERTA BONITA': 62, 'BUENAVISTA': 63, 'ABRANTES': 64, 'MOSCARDO': 65, 'ENTREVIAS': 66,\n",
    "       'SAN DIEGO': 67, 'PALOMERAS SURESTE': 68, 'FONTARRON': 69, 'VINATEROS': 70,\n",
    "       'LOS ROSALES': 71, 'CASCO HISTORICO DE VALLECAS': 72,\n",
    "       'CASCO HISTORICO DE VICALVARO': 73 , 'SIMANCAS': 74, 'REJAS': 75, 'TIMON': 76,\n",
    "       'CASCO HISTORICO DE BARAJAS': 77, 'BUTARQUE': 78, 'LOS ANGELES': 79,\n",
    "       'SALVADOR': 80, 'ORCASUR': 81, 'SAN FERMIN': 82, 'ALMENDRALES': 83, 'PRADOLONGO': 84,\n",
    "       'PORTAZGO': 85, 'PALOMERAS BAJAS': 86, 'SAN ISIDRO': 87, 'OPANEL': 88, 'EL GOLOSO': 89,\n",
    "       'ARAVACA': 90, 'CARMENES': 91, 'SAN JUAN BAUTISTA': 92, 'COSTILLARES': 93,\n",
    "       'PIOVERA': 94, 'APOSTOL SANTIAGO': 95, 'VALDEFUENTES': 96, 'CIUDAD JARDIN': 97,\n",
    "       'CASTILLEJOS': 98, 'NINO JESUS': 99, 'ZOFIO': 100, 'PILAR': 101, 'VALDEMARIN': 102,\n",
    "       'AMBROZ': 103, 'ARCOS': 104, 'ALAMEDA DE OSUNA': 105, 'COLINA': 106, 'PALOMAS': 107,\n",
    "       'ORCASITAS': 108, 'MEDIA LEGUA': 109, 'VALDEZARZA': 110, 'MIRASIERRA': 111,\n",
    "       'SAN PASCUAL': 112, 'HELLIN': 113, 'CANILLEJAS': 114, 'MARROQUINA': 115, 'AEROPUERTO': 116,\n",
    "       'PAVONES': 117, 'EL PARDO': 118, 'AMPOSTA': 119, 'SANTA EUGENIA': 120, 'ROSAS': 121,\n",
    "       'EL PLANTIO': 122, 'FUENTELAREINA': 123, 'CORRALEJOS': 124, 'SAN CRISTOBAL': 125,\n",
    "       'CUATRO VIENTOS': 126}\n",
    "\n",
    "df_airbnb_cleansed['NEIGHBOURHOOD_CLEANSED'] = df_airbnb_cleansed['NEIGHBOURHOOD_CLEANSED'].map(dic_NEIGHBOURHOOD_CLEANSED)\n"
   ]
  },
  {
   "cell_type": "code",
   "execution_count": 241,
   "metadata": {},
   "outputs": [
    {
     "data": {
      "text/plain": [
       "array(['APARTMENT', 'GUESTHOUSE', 'OTHER', 'HOUSE', 'CONDOMINIUM',\n",
       "       'BED & BREAKFAST', 'LOFT', 'DORM', 'HOSTEL', 'CHALET',\n",
       "       'CASA PARTICULAR', 'TOWNHOUSE', 'SERVICED APARTMENT',\n",
       "       'BOUTIQUE HOTEL', 'EARTH HOUSE', 'CAMPER/RV', 'VILLA',\n",
       "       'GUEST SUITE', 'TIMESHARE', 'BUNGALOW', 'TENT', 'BOAT'],\n",
       "      dtype=object)"
      ]
     },
     "execution_count": 241,
     "metadata": {},
     "output_type": "execute_result"
    }
   ],
   "source": [
    "df_airbnb_cleansed['PROPERTY_TYPE'].unique()"
   ]
  },
  {
   "cell_type": "code",
   "execution_count": 242,
   "metadata": {},
   "outputs": [],
   "source": [
    "dic_PROPERTY_TYPE = {'APARTMENT': 1, 'BED & BREAKFAST': 2, 'BOAT': 3, 'BOUTIQUE HOTEL': 4, 'BUNGALOW': 5, 'CAMPER/RV': 6, 'CASA PARTICULAR': 7, 'CHALET': 8,\n",
    "'CONDOMINIUM': 9, 'DORM': 10, 'EARTH HOUSE': 11, 'GUEST SUITE': 12, 'GUESTHOUSE': 13, 'HOSTEL': 14, 'HOUSE': 15, 'LOFT': 16,\n",
    "'OTHER': 17, 'SERVICED APARTMENT': 18, 'TENT': 19, 'TIMESHARE': 20, 'TOWNHOUSE': 21, 'VILLA': 22}\n",
    "\n",
    "df_airbnb_cleansed['PROPERTY_TYPE'] = df_airbnb_cleansed['PROPERTY_TYPE'].map(dic_PROPERTY_TYPE)\n"
   ]
  },
  {
   "cell_type": "code",
   "execution_count": 208,
   "metadata": {},
   "outputs": [
    {
     "data": {
      "text/plain": [
       "array(['PRIVATE ROOM', 'ENTIRE HOME/APT', 'SHARED ROOM'], dtype=object)"
      ]
     },
     "execution_count": 208,
     "metadata": {},
     "output_type": "execute_result"
    }
   ],
   "source": [
    "df_airbnb_cleansed['ROOM_TYPE'].unique()"
   ]
  },
  {
   "cell_type": "code",
   "execution_count": 243,
   "metadata": {},
   "outputs": [],
   "source": [
    "dic_ROOM_TYPE = {'ENTIRE HOME/APT': 1, 'PRIVATE ROOM': 2, 'SHARED ROOM': 3}\n",
    "\n",
    "df_airbnb_cleansed['ROOM_TYPE'] = df_airbnb_cleansed['ROOM_TYPE'].map(dic_ROOM_TYPE)\n"
   ]
  },
  {
   "cell_type": "code",
   "execution_count": 210,
   "metadata": {},
   "outputs": [
    {
     "data": {
      "text/plain": [
       "array(['REAL BED', 'PULL-OUT SOFA', 'FUTON', 'COUCH', 'AIRBED'],\n",
       "      dtype=object)"
      ]
     },
     "execution_count": 210,
     "metadata": {},
     "output_type": "execute_result"
    }
   ],
   "source": [
    "df_airbnb_cleansed['BED_TYPE'].unique()"
   ]
  },
  {
   "cell_type": "code",
   "execution_count": 244,
   "metadata": {},
   "outputs": [],
   "source": [
    "dic_BED_TYPE = {'AIRBED': 1, 'COUCH': 2, 'FUTON': 3,'PULL-OUT SOFA': 4, 'REAL BED': 5}\n",
    "\n",
    "df_airbnb_cleansed['BED_TYPE'] = df_airbnb_cleansed['BED_TYPE'].map(dic_BED_TYPE)"
   ]
  },
  {
   "cell_type": "code",
   "execution_count": 245,
   "metadata": {},
   "outputs": [],
   "source": [
    "'''\n",
    "Exportamos el df en formato csv para poder tratarlo en Dveaber y posteriormente Tableau y R. Modifico el separador a comas para que no nos de problemas en el resto de programas\n",
    "'''\n",
    "\n",
    "df_airbnb_cleansed.to_csv('df_airbnb_normalized.csv', index=False, sep=',')\n"
   ]
  },
  {
   "cell_type": "code",
   "execution_count": 262,
   "metadata": {},
   "outputs": [],
   "source": [
    "\"\"\" Renombro las columnas de acuerdo a los nombres que tendrán en la BD\"\"\"\n",
    "\n",
    "df_renamed = df_airbnb_cleansed.rename(columns={'ID': 'ID_PROPERTY', 'NEIGHBOURHOOD_CLEANSED': 'ID_NEIGHBOURHOOD',\n",
    "                                                'PROPERTY_TYPE': 'ID_PROPERTY_TYPE', 'ROOM_TYPE': 'ID_ROOM_TYPE',\n",
    "                                                'BED_TYPE': 'ID_BED_TYPE', 'CANCELLATION_POLICY': 'ID_CANCEL_POLICY', '24H_CHECKING': 'TWENTYFOUR_CHECKING',\n",
    "                                                'SMOKING ALLOWED': 'SMOKING_ALLOWED', 'PETS ALLOWED': 'PETS_ALLOWED', 'ELEVATOR IN BUILDING': 'ELEVATOR_IN_BUILDING',\n",
    "                                                'SECURITY DEPOSIT BOOL': 'SECURITY_DEPOSIT_BOOL' })"
   ]
  },
  {
   "cell_type": "code",
   "execution_count": 265,
   "metadata": {},
   "outputs": [],
   "source": [
    "\"\"\"Creando las tablas normalizadas para exportar a Postgress\"\"\"\n",
    "\n",
    "df_properties = pd.DataFrame(df_renamed, columns =['ID_PROPERTY', 'HOST_ID', 'ZIPCODE', 'ID_NEIGHBOURHOOD', 'LATITUDE', 'LONGITUDE', 'ID_PROPERTY_TYPE', 'ID_ROOM_TYPE', 'ACCOMMODATES', 'BATHROOMS', 'BEDROOMS', 'BEDS', 'ID_BED_TYPE', 'SECURITY_DEPOSIT', 'CLEANING_FEE', 'GUESTS_INCLUDED', 'EXTRA_PEOPLE', 'MINIMUM_NIGHTS', 'MAXIMUM_NIGHTS', 'ID_CANCEL_POLICY' , 'FEATURES', 'PRICE'] )\n",
    "df_hosts = pd.DataFrame(df_renamed, columns =['HOST_ID', 'HOST_SINCE', 'HOST_LOCATION', 'HOST_RESPONSE_TIME', 'HOST_RESPONSE_RATE'])\n",
    "df_reviews = pd.DataFrame(df_renamed, columns =['ID_PROPERTY',  'LAST_REVIEW',  'FIRST_REVIEW',  'NUMBER_OF_REVIEWS',  'REVIEW_SCORES_RATING',  'REVIEW_SCORES_ACCURACY',  'REVIEW_SCORES_CLEANLINESS',  'REVIEW_SCORES_CHECKIN',  'REVIEW_SCORES_COMMUNICATION',  'REVIEW_SCORES_LOCATION',  'REVIEW_SCORES_VALUE'])\n",
    "df_amenities = pd.DataFrame(df_renamed, columns =['ID_PROPERTY', 'INTERNET', 'AC', 'TWENTYFOUR_CHECKING', 'WASHER', 'SMOKING_ALLOWED', 'PETS_ALLOWED', 'ELEVATOR_IN_BUILDING', 'SECURITY_DEPOSIT_BOOL'])"
   ]
  },
  {
   "cell_type": "code",
   "execution_count": 248,
   "metadata": {},
   "outputs": [
    {
     "data": {
      "text/plain": [
       "(8180, 5)"
      ]
     },
     "execution_count": 248,
     "metadata": {},
     "output_type": "execute_result"
    }
   ],
   "source": [
    "\"\"\"Para la tabla de 'HOSTS' removeremos los valores duplicados\"\"\"\n",
    "\n",
    "df_hosts.shape #(13327, 5)\n",
    "\n",
    "# Eliminar filas duplicadas basadas en la columna 'HOST_ID'\n",
    "unique_df_hosts = df_hosts.drop_duplicates(subset='HOST_ID')\n",
    "# Resetear el índice\n",
    "unique_df_hosts = unique_df_hosts.reset_index(drop=True)\n",
    "\n",
    "unique_df_hosts.shape #(8180, 5)\n"
   ]
  },
  {
   "cell_type": "code",
   "execution_count": 231,
   "metadata": {},
   "outputs": [],
   "source": [
    "\"\"\"Exportación de las tablas 'properties' , 'hosts', 'reviews', 'amenities\"\"\"\n",
    "\n",
    "df_properties.to_csv('properties_normalized.csv', index=False, sep=',')\n",
    "\n"
   ]
  },
  {
   "cell_type": "code",
   "execution_count": 218,
   "metadata": {},
   "outputs": [],
   "source": [
    "unique_df_hosts.to_csv('hosts_normalized.csv', index=False, sep=',')"
   ]
  },
  {
   "cell_type": "code",
   "execution_count": 228,
   "metadata": {},
   "outputs": [],
   "source": [
    "df_reviews.to_csv('reviews_normalized.csv', index=False, sep=',')"
   ]
  },
  {
   "cell_type": "code",
   "execution_count": 264,
   "metadata": {},
   "outputs": [],
   "source": [
    "df_amenities.to_csv('amenities_normalized.csv', index=False, sep=',')"
   ]
  }
 ],
 "metadata": {
  "kernelspec": {
   "display_name": "Python 3",
   "language": "python",
   "name": "python3"
  },
  "language_info": {
   "codemirror_mode": {
    "name": "ipython",
    "version": 3
   },
   "file_extension": ".py",
   "mimetype": "text/x-python",
   "name": "python",
   "nbconvert_exporter": "python",
   "pygments_lexer": "ipython3",
   "version": "3.10.10"
  },
  "orig_nbformat": 4,
  "vscode": {
   "interpreter": {
    "hash": "0d25ec7444ee2b9c43e5a8c95ba5d32c84e589cf5abf948ce14e1e4357d8b598"
   }
  }
 },
 "nbformat": 4,
 "nbformat_minor": 2
}
